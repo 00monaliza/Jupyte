{
 "cells": [
  {
   "cell_type": "code",
   "execution_count": null,
   "id": "5bc852ce-6075-496a-af7b-230b0a134659",
   "metadata": {},
   "outputs": [],
   "source": [
    "def fibonacci(sequence_length):\n",
    "    sequence = [0, 1]\n",
    "    if sequence_length < 1:\n",
    "        print(\"Последовательность Фибоначчи не может иметь длину, меньшую 1.\")\n",
    "        return\n",
    "    if 0 < sequence_length < 3:\n",
    "        return sequence[:sequence_length]\n",
    "    for i in range(2, sequence_length):\n",
    "        sequence.append(sequence[i-1] + sequence[i-2])\n",
    "    return sequence"
   ]
  },
  {
   "cell_type": "code",
   "execution_count": null,
   "id": "8dccf6ff-0235-4d64-b800-7db8561d1d8c",
   "metadata": {},
   "outputs": [],
   "source": [
    "fibonacci(12)"
   ]
  },
  {
   "cell_type": "code",
   "execution_count": null,
   "id": "fea2ff75-4382-487d-aa51-782ac7586163",
   "metadata": {},
   "outputs": [],
   "source": [
    "import pandas as pd\n",
    "import numpy as np\n",
    "import matplotlib.pyplot as plt\n",
    "\n",
    "data = pd.read_csv(\"P1_diamonds.csv\", header=0)\n",
    "data = data.drop(\"Unnamed: 0\", axis=1)\n",
    "data.head()"
   ]
  },
  {
   "cell_type": "code",
   "execution_count": null,
   "id": "120aa35e-8f96-4306-8834-2c74f5a0a6eb",
   "metadata": {},
   "outputs": [],
   "source": [
    "plt.hist(data[\"price\"], bins = 150)\n",
    "plt.title(\"Graphycs\", fontdict={'fonsize': 20, 'color': 'Green', 'fontweight': 20})\n",
    "plt.xlabel(\"price\", fontdict={'fonsize': 12, 'fontweight': 20, 'color': 'Brown'})\n",
    "plt.ylabel(\"count\", fontdict={'fontsize': 12, 'fontweight': 20, 'color': 'Brrown'})\n",
    "plt.show()"
   ]
  },
  {
   "cell_type": "code",
   "execution_count": null,
   "id": "7f8a5c08-994c-4fe9-814f-f5b645ec1d75",
   "metadata": {},
   "outputs": [],
   "source": [
    "groupdata = data.groupby(\"cut\").count()\n",
    "groupdata\n",
    "\n",
    "x_vals = []\n",
    "y_vals = []\n",
    "for i in [0, 1, 4, 3, 2]:\n",
    "    x_vals.append(groupdata.index[i])\n",
    "    y_vals.append(groupdata.iloc[i, 0])\n",
    "plt.bar(x_vals, y_vals)\n",
    "\n",
    "plt.title(\"Graphycs\", fontdict={'fonsize': 20, 'color': 'Green', 'fontweight': 20})\n",
    "\n",
    "plt.xlabel(\"Ogranka\", fontdict={'fonsize': 12, 'fontweight': 20, 'color': 'Brown'})\n",
    "plt.ylabel(\"count\", fontdict={'fonsize': 12, 'fontweight': 20, 'color': 'Brown'})"
   ]
  }
 ],
 "metadata": {
  "kernelspec": {
   "display_name": "Python 3 (ipykernel)",
   "language": "python",
   "name": "python3"
  },
  "language_info": {
   "codemirror_mode": {
    "name": "ipython",
    "version": 3
   },
   "file_extension": ".py",
   "mimetype": "text/x-python",
   "name": "python",
   "nbconvert_exporter": "python",
   "pygments_lexer": "ipython3",
   "version": "3.10.11"
  }
 },
 "nbformat": 4,
 "nbformat_minor": 5
}
