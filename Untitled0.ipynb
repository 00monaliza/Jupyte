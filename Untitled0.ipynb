{
  "nbformat": 4,
  "nbformat_minor": 0,
  "metadata": {
    "colab": {
      "provenance": [],
      "gpuType": "T4",
      "authorship_tag": "ABX9TyOFWntb8Mm/ohigBxGN9pqc",
      "include_colab_link": true
    },
    "kernelspec": {
      "name": "python3",
      "display_name": "Python 3"
    },
    "language_info": {
      "name": "python"
    },
    "accelerator": "GPU"
  },
  "cells": [
    {
      "cell_type": "markdown",
      "metadata": {
        "id": "view-in-github",
        "colab_type": "text"
      },
      "source": [
        "<a href=\"https://colab.research.google.com/github/00monaliza/Jupyte/blob/main/Untitled0.ipynb\" target=\"_parent\"><img src=\"https://colab.research.google.com/assets/colab-badge.svg\" alt=\"Open In Colab\"/></a>"
      ]
    },
    {
      "cell_type": "code",
      "source": [
        "print(\"hello world\")"
      ],
      "metadata": {
        "colab": {
          "base_uri": "https://localhost:8080/"
        },
        "id": "iu83yOz4VLdv",
        "outputId": "5d241c7f-0508-4f02-9176-b6a37097049a"
      },
      "execution_count": 2,
      "outputs": [
        {
          "output_type": "stream",
          "name": "stdout",
          "text": [
            "hello world\n"
          ]
        }
      ]
    },
    {
      "cell_type": "markdown",
      "source": [
        "$\\sqrt(3x-1)+(1+x)^2$"
      ],
      "metadata": {
        "id": "KoWDTfZlVpg-"
      }
    },
    {
      "cell_type": "code",
      "source": [
        "myoutput = \"\"\"\n",
        "@  Step        Energy      Delta E      Gmax      Grms      Xrms      Xmax    Walltime\n",
        "@  ----  ----------------  --------  --------  --------  --------  --------  --------\n",
        "@      0  -6095.12544083   0.0D+00   0.03686   0.00936   0.00008   0.00000   1391.5\n",
        "@      1  -6095.25762878  -1.3D-01   0.00732   0.00168   0.32456   0.84140  10468.0\n",
        "@      2  -6095.26325979  -5.6D-03   0.00233   0.00056   0.06294   0.14089  11963.5\n",
        "@      3  -6095.26428124  -1.0D-03   0.00243   0.00082   0.83245   0.12069  13331.9\n",
        "@      4  -6095.26436283  -3.5D-04   0.00057   0.00013   0.02737   0.09112  14710.8\n",
        "@      5  -6095.26477165  -1.4D-04   0.00043   0.00010   0.22590   0.08615  20211.1\n",
        "@      6  -6095.26482624  -5.0D-05   0.00015   0.00002   0.00831   0.03147  21726.1\n",
        "@      7  -6095.26483584  -9.6D-06   0.00021   0.00004   0.01473   0.05265  24380.5\n",
        "@      8  -6095.26484048  -4.6D-06   0.00013   0.00001   0.00555   0.01929  26448.7\n",
        "@      9  -6095.26484599  -1.9D-06   0.00003   0.00000   0.00164   0.00564  27258.1\n",
        "@     10  -6095.26484676  -7.7D-07   0.00002   0.00000   0.00061   0.00155  28158.5\n",
        "@     11  -6095.26484693  -1.8D-07   0.00002   0.00000   0.00054   0.00151  28981.7\n",
        "\"\"\"\n"
      ],
      "metadata": {
        "id": "f_gxibvGV_R2"
      },
      "execution_count": 4,
      "outputs": []
    },
    {
      "cell_type": "code",
      "source": [
        "lines = myoutput.splitlines()\n",
        "lines"
      ],
      "metadata": {
        "colab": {
          "base_uri": "https://localhost:8080/"
        },
        "id": "0ljBQKaeWrsk",
        "outputId": "7ac02ced-0650-4976-a5c7-a0890025532b"
      },
      "execution_count": 5,
      "outputs": [
        {
          "output_type": "execute_result",
          "data": {
            "text/plain": [
              "['  ',\n",
              " '@  Step        Energy      Delta E      Gmax      Grms      Xrms      Xmax    Walltime  ',\n",
              " '@  ----  ----------------  --------  --------  --------  --------  --------  --------  ',\n",
              " '@      0  -6095.12544083   0.0D+00   0.03686   0.00936   0.00008   0.00000   1391.5  ',\n",
              " '@      1  -6095.25762878  -1.3D-01   0.00732   0.00168   0.32456   0.84140  10468.0  ',\n",
              " '@      2  -6095.26325979  -5.6D-03   0.00233   0.00056   0.06294   0.14089  11963.5  ',\n",
              " '@      3  -6095.26428124  -1.0D-03   0.00243   0.00082   0.83245   0.12069  13331.9  ',\n",
              " '@      4  -6095.26436283  -3.5D-04   0.00057   0.00013   0.02737   0.09112  14710.8  ',\n",
              " '@      5  -6095.26477165  -1.4D-04   0.00043   0.00010   0.22590   0.08615  20211.1  ',\n",
              " '@      6  -6095.26482624  -5.0D-05   0.00015   0.00002   0.00831   0.03147  21726.1  ',\n",
              " '@      7  -6095.26483584  -9.6D-06   0.00021   0.00004   0.01473   0.05265  24380.5  ',\n",
              " '@      8  -6095.26484048  -4.6D-06   0.00013   0.00001   0.00555   0.01929  26448.7  ',\n",
              " '@      9  -6095.26484599  -1.9D-06   0.00003   0.00000   0.00164   0.00564  27258.1  ',\n",
              " '@     10  -6095.26484676  -7.7D-07   0.00002   0.00000   0.00061   0.00155  28158.5  ',\n",
              " '@     11  -6095.26484693  -1.8D-07   0.00002   0.00000   0.00054   0.00151  28981.7  ']"
            ]
          },
          "metadata": {},
          "execution_count": 5
        }
      ]
    },
    {
      "cell_type": "code",
      "source": [
        "lines[2].split()"
      ],
      "metadata": {
        "colab": {
          "base_uri": "https://localhost:8080/"
        },
        "id": "ujirL3wDW5HX",
        "outputId": "585d5471-7f0b-4b26-aeda-babeb14ced6c"
      },
      "execution_count": 6,
      "outputs": [
        {
          "output_type": "execute_result",
          "data": {
            "text/plain": [
              "['@',\n",
              " '----',\n",
              " '----------------',\n",
              " '--------',\n",
              " '--------',\n",
              " '--------',\n",
              " '--------',\n",
              " '--------',\n",
              " '--------']"
            ]
          },
          "metadata": {},
          "execution_count": 6
        }
      ]
    },
    {
      "cell_type": "code",
      "source": [
        "for line in lines[2:]:\n",
        "  words = line.split()\n",
        "  energy = words[2]\n",
        "  gmax = words[4]\n",
        "  time = words[8]\n",
        "  print(energy, gmax, time)"
      ],
      "metadata": {
        "colab": {
          "base_uri": "https://localhost:8080/"
        },
        "id": "1lacx3n0XBqN",
        "outputId": "589b1c08-2f2e-4c03-bbe1-bef52d7b3c76"
      },
      "execution_count": 7,
      "outputs": [
        {
          "output_type": "stream",
          "name": "stdout",
          "text": [
            "---------------- -------- --------\n",
            "-6095.12544083 0.03686 1391.5\n",
            "-6095.25762878 0.00732 10468.0\n",
            "-6095.26325979 0.00233 11963.5\n",
            "-6095.26428124 0.00243 13331.9\n",
            "-6095.26436283 0.00057 14710.8\n",
            "-6095.26477165 0.00043 20211.1\n",
            "-6095.26482624 0.00015 21726.1\n",
            "-6095.26483584 0.00021 24380.5\n",
            "-6095.26484048 0.00013 26448.7\n",
            "-6095.26484599 0.00003 27258.1\n",
            "-6095.26484676 0.00002 28158.5\n",
            "-6095.26484693 0.00002 28981.7\n"
          ]
        }
      ]
    },
    {
      "cell_type": "code",
      "source": [
        "import numpy as np\n",
        "data = []\n",
        "for line in lines[3:]:\n",
        "    words = line.split()\n",
        "    energy = float(words[2])\n",
        "    gmax = float(words[4])\n",
        "    time = float(words[8])\n",
        "    data.append([energy, gmax, time])\n",
        "\n",
        "data = np.array(data)"
      ],
      "metadata": {
        "id": "Mga3-6gqXaJ8"
      },
      "execution_count": 11,
      "outputs": []
    },
    {
      "cell_type": "code",
      "source": [
        "import matplotlib.pyplot as plt\n",
        "plt.plot(data[:,0])\n",
        "plt.xlabel('step')\n",
        "plt.ylabel('energy (hartrees)')\n",
        "plt.title('convergence of nwchem geometry optimization for si cluster')"
      ],
      "metadata": {
        "colab": {
          "base_uri": "https://localhost:8080/",
          "height": 505
        },
        "id": "_cEgT8bFYpFb",
        "outputId": "3a101ea3-018d-4e32-ba20-b3f6df435149"
      },
      "execution_count": 12,
      "outputs": [
        {
          "output_type": "execute_result",
          "data": {
            "text/plain": [
              "Text(0.5, 1.0, 'convergence of nwchem geometry optimization for si cluster')"
            ]
          },
          "metadata": {},
          "execution_count": 12
        },
        {
          "output_type": "display_data",
          "data": {
            "text/plain": [
              "<Figure size 640x480 with 1 Axes>"
            ],
            "image/png": "[encoded data removed]"
          },
          "metadata": {}
        }
      ]
    }
  ]
}